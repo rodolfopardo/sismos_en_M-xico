{
 "cells": [
  {
   "cell_type": "code",
   "execution_count": 83,
   "metadata": {},
   "outputs": [
    {
     "name": "stdout",
     "output_type": "stream",
     "text": [
      "Requirement already satisfied: tweepy in /usr/local/lib/python3.7/site-packages (3.8.0)\n",
      "Requirement already satisfied: PySocks>=1.5.7 in /usr/local/lib/python3.7/site-packages (from tweepy) (1.7.0)\n",
      "Requirement already satisfied: requests-oauthlib>=0.7.0 in /usr/local/lib/python3.7/site-packages (from tweepy) (1.2.0)\n",
      "Requirement already satisfied: requests>=2.11.1 in /usr/local/lib/python3.7/site-packages (from tweepy) (2.22.0)\n",
      "Requirement already satisfied: six>=1.10.0 in /usr/local/Cellar/ipython/7.5.0/libexec/vendor/lib/python3.7/site-packages (from tweepy) (1.12.0)\n",
      "Requirement already satisfied: oauthlib>=3.0.0 in /usr/local/lib/python3.7/site-packages (from requests-oauthlib>=0.7.0->tweepy) (3.0.2)\n",
      "Requirement already satisfied: certifi>=2017.4.17 in /usr/local/lib/python3.7/site-packages (from requests>=2.11.1->tweepy) (2019.6.16)\n",
      "Requirement already satisfied: idna<2.9,>=2.5 in /usr/local/lib/python3.7/site-packages (from requests>=2.11.1->tweepy) (2.8)\n",
      "Requirement already satisfied: chardet<3.1.0,>=3.0.2 in /usr/local/lib/python3.7/site-packages (from requests>=2.11.1->tweepy) (3.0.4)\n",
      "Requirement already satisfied: urllib3!=1.25.0,!=1.25.1,<1.26,>=1.21.1 in /usr/local/lib/python3.7/site-packages (from requests>=2.11.1->tweepy) (1.25.3)\n"
     ]
    }
   ],
   "source": [
    "import sys\n",
    "!{sys.executable} -m pip install tweepy\n",
    "\n",
    "import tweepy\n",
    "import pandas as pd\n",
    "\n",
    "#Credenciales\n",
    "\n",
    "API_KEY = \"xxxxxxxx\"\n",
    "API_SECRET = \"xxxxxxxx\"\n",
    "ACCESS_TOKEN = \"xxxxxxx\"\n",
    "ACCESS_TOKEN_SECRET = \"xxxxxxxx\""
   ]
  },
  {
   "cell_type": "code",
   "execution_count": 5,
   "metadata": {},
   "outputs": [],
   "source": [
    "#Autentificacion de credenciales\n",
    "\n",
    "auth = tweepy.OAuthHandler(API_KEY, API_SECRET)\n",
    "auth.set_access_token(ACCESS_TOKEN, ACCESS_TOKEN_SECRET)\n",
    "api = tweepy.API(auth)"
   ]
  },
  {
   "cell_type": "code",
   "execution_count": 24,
   "metadata": {},
   "outputs": [
    {
     "data": {
      "text/plain": [
       "{'id': 44923719,\n",
       " 'id_str': '44923719',\n",
       " 'name': 'Sismologico Nacional',\n",
       " 'screen_name': 'SismologicoMX',\n",
       " 'location': 'Ciudad Universitaria, CDMX',\n",
       " 'profile_location': None,\n",
       " 'description': 'El Servicio Sismológico Nacional fue fundado el 5/Sep/1910. Forma parte de la @UNAM_MX desde 1929. Su misión es informar sobre la actividad sísmica en México.',\n",
       " 'url': 'http://t.co/8KpQmAm9NI',\n",
       " 'entities': {'url': {'urls': [{'url': 'http://t.co/8KpQmAm9NI',\n",
       "     'expanded_url': 'http://www.ssn.unam.mx',\n",
       "     'display_url': 'ssn.unam.mx',\n",
       "     'indices': [0, 22]}]},\n",
       "  'description': {'urls': []}},\n",
       " 'protected': False,\n",
       " 'followers_count': 3837499,\n",
       " 'friends_count': 0,\n",
       " 'listed_count': 7031,\n",
       " 'created_at': 'Fri Jun 05 16:00:29 +0000 2009',\n",
       " 'favourites_count': 5,\n",
       " 'utc_offset': None,\n",
       " 'time_zone': None,\n",
       " 'geo_enabled': False,\n",
       " 'verified': True,\n",
       " 'statuses_count': 128976,\n",
       " 'lang': None,\n",
       " 'status': {'created_at': 'Thu Jul 18 01:05:18 +0000 2019',\n",
       "  'id': 1151659173647536128,\n",
       "  'id_str': '1151659173647536128',\n",
       "  'text': 'SISMO Magnitud 3.4 Loc. 34 km al NORESTE de ACAPULCO, GRO 17/07/19 16:53:19 Lat 17.14 Lon -99.74 Pf 49 km',\n",
       "  'truncated': False,\n",
       "  'entities': {'hashtags': [], 'symbols': [], 'user_mentions': [], 'urls': []},\n",
       "  'source': '<a href=\"http://www.sismologico.unam..mx\" rel=\"nofollow\">tweetSismologicoMx</a>',\n",
       "  'in_reply_to_status_id': None,\n",
       "  'in_reply_to_status_id_str': None,\n",
       "  'in_reply_to_user_id': None,\n",
       "  'in_reply_to_user_id_str': None,\n",
       "  'in_reply_to_screen_name': None,\n",
       "  'geo': None,\n",
       "  'coordinates': None,\n",
       "  'place': None,\n",
       "  'contributors': None,\n",
       "  'is_quote_status': False,\n",
       "  'retweet_count': 5,\n",
       "  'favorite_count': 41,\n",
       "  'favorited': False,\n",
       "  'retweeted': False,\n",
       "  'lang': 'es'},\n",
       " 'contributors_enabled': False,\n",
       " 'is_translator': False,\n",
       " 'is_translation_enabled': False,\n",
       " 'profile_background_color': 'C0DEED',\n",
       " 'profile_background_image_url': 'http://abs.twimg.com/images/themes/theme1/bg.png',\n",
       " 'profile_background_image_url_https': 'https://abs.twimg.com/images/themes/theme1/bg.png',\n",
       " 'profile_background_tile': False,\n",
       " 'profile_image_url': 'http://pbs.twimg.com/profile_images/649361911461515264/LLNGDnKK_normal.png',\n",
       " 'profile_image_url_https': 'https://pbs.twimg.com/profile_images/649361911461515264/LLNGDnKK_normal.png',\n",
       " 'profile_banner_url': 'https://pbs.twimg.com/profile_banners/44923719/1535849647',\n",
       " 'profile_link_color': '003A73',\n",
       " 'profile_sidebar_border_color': '000000',\n",
       " 'profile_sidebar_fill_color': '000000',\n",
       " 'profile_text_color': '000000',\n",
       " 'profile_use_background_image': True,\n",
       " 'has_extended_profile': True,\n",
       " 'default_profile': False,\n",
       " 'default_profile_image': False,\n",
       " 'following': False,\n",
       " 'follow_request_sent': False,\n",
       " 'notifications': False,\n",
       " 'translator_type': 'none'}"
      ]
     },
     "execution_count": 24,
     "metadata": {},
     "output_type": "execute_result"
    }
   ],
   "source": [
    "#Extrayendo los datos de una cuenta \n",
    "#En este caso, del centro sismologico Nacional de México\n",
    "\n",
    "datos = api.get_user('SismologicoMX')\n",
    "\n",
    "datos._json\n"
   ]
  },
  {
   "cell_type": "code",
   "execution_count": 33,
   "metadata": {},
   "outputs": [
    {
     "name": "stdout",
     "output_type": "stream",
     "text": [
      "El nombre de la cuenta es Sismologico Nacional\n"
     ]
    }
   ],
   "source": [
    "#Nombre de la cuenta\n",
    "\n",
    "print(\"El nombre de la cuenta es: %s\" % datos._json['name'])"
   ]
  },
  {
   "cell_type": "code",
   "execution_count": 34,
   "metadata": {},
   "outputs": [
    {
     "name": "stdout",
     "output_type": "stream",
     "text": [
      "Su nombre de usuario es: SismologicoMX\n"
     ]
    }
   ],
   "source": [
    "#Nombre de usuario\n",
    "\n",
    "print(\"Su nombre de usuario es: %s\" % datos._json['screen_name'])"
   ]
  },
  {
   "cell_type": "code",
   "execution_count": 36,
   "metadata": {},
   "outputs": [
    {
     "name": "stdout",
     "output_type": "stream",
     "text": [
      "Su geolocalización es: Ciudad Universitaria, CDMX\n"
     ]
    }
   ],
   "source": [
    "#Geolocalización de la cuenta\n",
    "\n",
    "print(\"Su geolocalización es: %s\" % datos._json['location'])"
   ]
  },
  {
   "cell_type": "code",
   "execution_count": 37,
   "metadata": {},
   "outputs": [
    {
     "name": "stdout",
     "output_type": "stream",
     "text": [
      "Es una cuenta verificada\n"
     ]
    }
   ],
   "source": [
    "#Si es una cuenta verificada o no \n",
    "\n",
    "if datos._json['verified']:\n",
    "    print(\"Es una cuenta verificada\")\n",
    "else:\n",
    "    print(\"La cuenta no está verificada\")"
   ]
  },
  {
   "cell_type": "code",
   "execution_count": 38,
   "metadata": {},
   "outputs": [
    {
     "name": "stdout",
     "output_type": "stream",
     "text": [
      "La cantidad de seguidores es de: 3837499\n"
     ]
    }
   ],
   "source": [
    "#CAntidad de seguidores \n",
    "\n",
    "print(\"La cantidad de seguidores es de: %i\" % datos._json['followers_count'])"
   ]
  },
  {
   "cell_type": "code",
   "execution_count": 45,
   "metadata": {},
   "outputs": [
    {
     "name": "stdout",
     "output_type": "stream",
     "text": [
      "La cuenta ha emitido tuits 128976\n"
     ]
    }
   ],
   "source": [
    "#Cantidad de tuits emitidos\n",
    "\n",
    "print(\"La cuenta ha emitido tuits %i\" % datos._json['statuses_count'])"
   ]
  },
  {
   "cell_type": "code",
   "execution_count": 90,
   "metadata": {},
   "outputs": [
    {
     "name": "stdout",
     "output_type": "stream",
     "text": [
      "SISMO Magnitud 3.4 Loc. 34 km al NORESTE de ACAPULCO, GRO 17/07/19 16:53:19 Lat 17.14 Lon -99.74 Pf 49 km\n",
      "SISMO Magnitud 3.9 Loc. 52 km al NOROESTE de CINTALAPA, CHIS 17/07/19 16:50:48 Lat 17.04 Lon -94.05 Pf 176 km\n",
      "SISMO Magnitud 3.6 Loc. 22 km al SUR de SAN MARCOS, GRO 17/07/19 16:34:43 Lat 16.59 Lon -99.42 Pf 16 km\n",
      "SISMO Magnitud 3.7 Loc. 25 km al SUROESTE de XICO, VER 17/07/19 15:41:38 Lat 19.29 Lon -97.21 Pf 5 km\n",
      "SISMO Magnitud 3.5 Loc. 31 km al NOROESTE de CD IXTEPEC, OAX 17/07/19 10:50:00 Lat 16.69 Lon -95.36 Pf 14 km\n",
      "SISMO Magnitud 3.6 Loc. 50 km al OESTE de ARRIAGA , CHIS 17/07/19 09:23:10 Lat 16.28 Lon -94.37 Pf 27 km\n",
      "SISMO Magnitud 3.3 Loc. 34 km al SUROESTE de PINOTEPA NACIONAL, OAX 17/07/19 08:43:01 Lat 16.22 Lon -98.34 Pf 6 km\n",
      "SISMO Magnitud 3.9 Loc. 127 km al SUROESTE de TONALA, CHIS 17/07/19 15:39:12 Lat 15.18 Lon -94.49 Pf 20 km\n",
      "SISMO Magnitud 3.6 Loc. 47 km al SUROESTE de HUIXTLA, CHIS 17/07/19 15:34:19 Lat 14.79 Lon -92.72 Pf 82 km\n",
      "SISMO Magnitud 3.2 Loc. 22 km al SUROESTE de OMETEPEC, GRO 17/07/19 14:54:33 Lat 16.51 Lon -98.50 Pf 26 km\n",
      "SISMO Magnitud 3.8 Loc. 57 km al NOROESTE de CINTALAPA, CHIS 17/07/19 14:45:21 Lat 16.97 Lon -94.18 Pf 148 km\n",
      "SISMO Magnitud 3.3 Loc. 71 km al SUROESTE de PINOTEPA NACIONAL, OAX 17/07/19 13:01:30 Lat 16.01 Lon -98.62 Pf 2 km\n",
      "SISMO Magnitud 3.5 Loc. 30 km al ESTE de PINOTEPA NACIONAL, OAX 17/07/19 12:57:19 Lat 16.28 Lon -97.78 Pf 9 km\n",
      "SISMO Magnitud 3.4 Loc. 20 km al SURESTE de CHIAUTLA DE TAPIA, PUE 17/07/19 12:56:08 Lat 18.16 Lon -98.47 Pf 52 km\n",
      "SISMO Magnitud 3.3 Loc. 81 km al SUROESTE de OMETEPEC, GRO 17/07/19 12:44:15 Lat 16.03 Lon -98.75 Pf 13 km\n",
      "SISMO Magnitud 3.3 Loc. 30 km al SURESTE de PINOTEPA NACIONAL, OAX 17/07/19 12:17:36 Lat 16.22 Lon -97.80 Pf 6 km\n",
      "SISMO Magnitud 3.9 Loc. 131 km al SUROESTE de TONALA, CHIS 17/07/19 11:30:35 Lat 15.07 Lon -94.38 Pf 21 km\n",
      "SISMO Magnitud 3.7 Loc. 84 km al SUROESTE de PIJIJIAPAN, CHIS 17/07/19 11:28:50 Lat 15.19 Lon -93.81 Pf 58 km\n",
      "SISMO Magnitud 3.7 Loc. 19 km al SURESTE de TONALA, CHIS 17/07/19 11:08:55 Lat 15.93 Lon -93.68 Pf 95 km\n",
      "SISMO Magnitud 3.6 Loc. 4 km al NORTE de JUCHITAN DE ZARAGOZA, OAX 17/07/19 10:55:11 Lat 16.47 Lon -95.02 Pf 59 km\n",
      "SISMO Magnitud 3.5 Loc. 19 km al NORTE de UNION HIDALGO, OAX 17/07/19 08:38:48 Lat 16.65 Lon -94.86 Pf 3 km\n",
      "SISMO Magnitud 3.7 Loc. 29 km al SUROESTE de TELOLOAPAN, GRO 17/07/19 08:24:47 Lat 18.15 Lon -100.03 Pf 59 km\n",
      "SISMO Magnitud 3.4 Loc. 21 km al SUROESTE de OMETEPEC, GRO 17/07/19 08:09:34 Lat 16.51 Lon -98.50 Pf 26 km\n",
      "SISMO Magnitud 3.9 Loc. 73 km al SUR de SALINA CRUZ, OAX 17/07/19 07:47:19 Lat 15.53 Lon -95.10 Pf 18 km\n",
      "SISMO Magnitud 3.8 Loc. 78 km al SUR de SALINA CRUZ, OAX 17/07/19 07:44:01 Lat 15.49 Lon -95.06 Pf 24 km\n",
      "SISMO Magnitud 3.7 Loc. 93 km al SURESTE de SALINA CRUZ, OAX 17/07/19 07:11:46 Lat 15.45 Lon -94.77 Pf 15 km\n",
      "SISMO Magnitud 3.8 Loc. 10 km al SUR de PIJIJIAPAN, CHIS 17/07/19 07:08:00 Lat 15.60 Lon -93.23 Pf 108 km\n",
      "SISMO Magnitud 3.6 Loc. 86 km al SURESTE de SALINA CRUZ, OAX 17/07/19 07:06:17 Lat 15.50 Lon -94.81 Pf 14 km\n",
      "SISMO Magnitud 3.5 Loc. 37 km al NORESTE de UNION HIDALGO, OAX 17/07/19 06:50:05 Lat 16.58 Lon -94.50 Pf 3 km\n",
      "SISMO Magnitud 3.7 Loc. 71 km al SUR de SALINA CRUZ, OAX 17/07/19 05:44:09 Lat 15.55 Lon -95.11 Pf 18 km\n"
     ]
    }
   ],
   "source": [
    "#Ver los tuits emitidos desde la cuenta de Sismología México\n",
    "#Es para obtener los últimos sismos tuiteados en la cuenta\n",
    "\n",
    "sismos = api.user_timeline('SismologicoMX', count= 30)\n",
    "\n",
    "sismos_table = [print(element.text) for element in sismos]"
   ]
  },
  {
   "cell_type": "code",
   "execution_count": null,
   "metadata": {},
   "outputs": [],
   "source": []
  }
 ],
 "metadata": {
  "kernelspec": {
   "display_name": "Python 3",
   "language": "python",
   "name": "python3"
  },
  "language_info": {
   "codemirror_mode": {
    "name": "ipython",
    "version": 3
   },
   "file_extension": ".py",
   "mimetype": "text/x-python",
   "name": "python",
   "nbconvert_exporter": "python",
   "pygments_lexer": "ipython3",
   "version": "3.7.3"
  }
 },
 "nbformat": 4,
 "nbformat_minor": 2
}
